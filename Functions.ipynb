{
 "cells": [
  {
   "cell_type": "markdown",
   "metadata": {},
   "source": [
    "# Functions\n",
    "#### Function are subprograms which are used to compute a value or perform a task. \n",
    "\n",
    "### Type of Function\n",
    "#### There are two type of functions \n",
    "#### 1. Built-in Function\n",
    "#### Ex:- print (), upper (), etc....\n",
    "\n",
    "#### 2. User-in Function\n",
    "\n",
    "### Advantages of Function\n",
    "#### 1. Write it once and can be use it many time as we need, this provides code reuseability.\n",
    "#### 2. Function facilitates ease of code maintenance.\n",
    "#### 3. Divide Large task into many small tasks so it will be help to debug code.\n",
    "#### 4. We can remove or add new feature to a function anytime\n"
   ]
  },
  {
   "cell_type": "markdown",
   "metadata": {},
   "source": [
    "### Function Difinition\n",
    "#### We can define a function using \"def\" keyword followed by function name with pararentheses. This is also called as Creating a Function, Writing a Function, Defining a Function\n",
    "\n",
    "#### Syntax:\n",
    "     def function_name ():\n",
    "         Local Variable\n",
    "         Block of Statement\n",
    "         Return (Variabl or Expression)\n",
    "\n",
    "#### Syntax:\n",
    "     def function_name (parameters 1, para 2,...):\n",
    "         Local Variable\n",
    "         Block of Statement\n",
    "         Return (Variabl or Expression)\n",
    "              \n",
    "Note: Need to maintain proper indentation  "
   ]
  },
  {
   "cell_type": "code",
   "execution_count": 1,
   "metadata": {},
   "outputs": [],
   "source": [
    "# example of defining a function\n",
    "\n",
    "def add():\n",
    "    x = 10\n",
    "    y = 20\n",
    "    c = x+y\n",
    "    print (c)"
   ]
  },
  {
   "cell_type": "code",
   "execution_count": 2,
   "metadata": {},
   "outputs": [],
   "source": [
    "# example of defining a function with parameter\n",
    "\n",
    "def add(y):\n",
    "    x = 10\n",
    "    c = x+y\n",
    "    print (c)"
   ]
  },
  {
   "cell_type": "markdown",
   "metadata": {},
   "source": [
    "### Calling a Function\n",
    "#### A function runs only when we call it, function can not run on it's own.\n",
    "#### Syntax:\n",
    "    function_name ()\n",
    "    function_name (argument1, arg2, ....)\n",
    "\n",
    "    Ex:-\n",
    "    add ()\n",
    "    add (20)\n",
    "    item (\"Name\")"
   ]
  },
  {
   "cell_type": "markdown",
   "metadata": {},
   "source": [
    "### How Function Work:\n"
   ]
  },
  {
   "cell_type": "code",
   "execution_count": 3,
   "metadata": {},
   "outputs": [
    {
     "name": "stdout",
     "output_type": "stream",
     "text": [
      "30\n"
     ]
    }
   ],
   "source": [
    "def add():\n",
    "    x = 10\n",
    "    y = 20\n",
    "    c = x+y\n",
    "    print (c)\n",
    "add()"
   ]
  },
  {
   "cell_type": "code",
   "execution_count": 7,
   "metadata": {},
   "outputs": [
    {
     "name": "stdout",
     "output_type": "stream",
     "text": [
      "30\n"
     ]
    }
   ],
   "source": [
    "def add(y):     # function parameter\n",
    "    x = 10\n",
    "    c = x+y\n",
    "    print (c)\n",
    "add(20)         # function argument"
   ]
  },
  {
   "cell_type": "markdown",
   "metadata": {},
   "source": [
    "#### Dynamic Typing:\n",
    "##### The parameter y do not know which type of value they are about to receive till the value is passed at the time of calling the function. It mean the type of data is determined only during runtime not at compile time this is called Dynamic Typing."
   ]
  },
  {
   "cell_type": "markdown",
   "metadata": {},
   "source": [
    "### Advantages"
   ]
  },
  {
   "cell_type": "code",
   "execution_count": 10,
   "metadata": {},
   "outputs": [
    {
     "name": "stdout",
     "output_type": "stream",
     "text": [
      "Welcome to Nasir Ali\n",
      "Welcome to Nasir Ali\n",
      "Welcome to Nasir Ali\n",
      "Welcome to Nasir Ali\n",
      "Welcome to Nasir Ali\n"
     ]
    }
   ],
   "source": [
    "# Write once & use it many time as we need\n",
    "\n",
    "# defining a funtion\n",
    "def dis ():\n",
    "    name = \"Nasir Ali\"\n",
    "    print (\"Welcome to\", name)\n",
    "# calling a function\n",
    "dis ()\n",
    "dis ()\n",
    "dis ()\n",
    "dis ()\n",
    "dis ()"
   ]
  },
  {
   "cell_type": "code",
   "execution_count": 16,
   "metadata": {},
   "outputs": [
    {
     "name": "stdout",
     "output_type": "stream",
     "text": [
      "30\n",
      "10\n",
      " \n",
      "30\n",
      "10\n"
     ]
    }
   ],
   "source": [
    "#Divide Large task into many small tasks, helpful for debuging code.\n",
    "\n",
    "# defining function for addition\n",
    "def add ():\n",
    "    x = 10\n",
    "    y = 20\n",
    "    c = x+y\n",
    "    print (c)\n",
    "add()\n",
    "\n",
    "# defining function for subtration\n",
    "def sub ():\n",
    "    x = 10\n",
    "    y = 20\n",
    "    c = y-x\n",
    "    print (c)\n",
    "sub()\n",
    "\n",
    "\n",
    "print (\" \")\n",
    "\n",
    "\n",
    "# defing a calculator\n",
    "def calc():\n",
    "    add()\n",
    "    sub()\n",
    "calc()"
   ]
  },
  {
   "cell_type": "code",
   "execution_count": 17,
   "metadata": {},
   "outputs": [
    {
     "name": "stdout",
     "output_type": "stream",
     "text": [
      "30\n",
      "10\n",
      "200\n",
      "2.0\n"
     ]
    }
   ],
   "source": [
    "#We can remove or add new feature to a function anytime\n",
    "def calculator ():\n",
    "    x = 10\n",
    "    y = 20\n",
    "    addition = x+y\n",
    "    subtraction = y-x\n",
    "    multiplication = x*y\n",
    "    division = y/x\n",
    "    \n",
    "    print (addition)\n",
    "    print (subtraction)\n",
    "    print (multiplication)\n",
    "    print (division)\n",
    "calculator ()"
   ]
  },
  {
   "cell_type": "code",
   "execution_count": 18,
   "metadata": {},
   "outputs": [
    {
     "name": "stdout",
     "output_type": "stream",
     "text": [
      "30\n"
     ]
    }
   ],
   "source": [
    "# Function without Parameter & Arguments\n",
    "\n",
    "#defining a function without parameter\n",
    "def add ():\n",
    "    x = 10\n",
    "    y = 20\n",
    "    c = x+y\n",
    "    print (c)\n",
    "\n",
    "#calling a function without arguments\n",
    "add()"
   ]
  },
  {
   "cell_type": "code",
   "execution_count": 19,
   "metadata": {},
   "outputs": [
    {
     "name": "stdout",
     "output_type": "stream",
     "text": [
      "30\n"
     ]
    }
   ],
   "source": [
    "# Function with Parameter & Arguments\n",
    "\n",
    "#defining a function with parameter\n",
    "def add (y):\n",
    "    x = 10\n",
    "    c = x+y\n",
    "    print (c)\n",
    "\n",
    "#calling a function with arguments\n",
    "add(20)"
   ]
  },
  {
   "cell_type": "markdown",
   "metadata": {},
   "source": [
    "### Return Statement\n",
    "#### Return statement can be used to return something from the function. In Python, It is possibe to return one or more variables/values.\n",
    "#### Syntax:\n",
    "            return (variable or expression)\n",
    "    example:-\n",
    "    return 10\n",
    "    return (10)\n",
    "    return (x+y)\n",
    "    return (y)\n",
    "    return (2,4)\n",
    "    return (x,y)"
   ]
  },
  {
   "cell_type": "code",
   "execution_count": 21,
   "metadata": {},
   "outputs": [
    {
     "data": {
      "text/plain": [
       "30"
      ]
     },
     "execution_count": 21,
     "metadata": {},
     "output_type": "execute_result"
    }
   ],
   "source": [
    "# Return Statement Single Value\n",
    "\n",
    "#defining a function\n",
    "def add():\n",
    "    x = 10\n",
    "    y = 20\n",
    "    c = x+y\n",
    "    return c\n",
    "\n",
    "#calling a function\n",
    "sum = add()\n",
    "print (sum)"
   ]
  },
  {
   "cell_type": "code",
   "execution_count": 23,
   "metadata": {},
   "outputs": [
    {
     "name": "stdout",
     "output_type": "stream",
     "text": [
      "30\n"
     ]
    }
   ],
   "source": [
    "#defining a function\n",
    "def add():\n",
    "    x = 10\n",
    "    y = 20\n",
    "    return x + y\n",
    "#calling a function\n",
    "sum = add()\n",
    "print (sum)"
   ]
  },
  {
   "cell_type": "code",
   "execution_count": 24,
   "metadata": {},
   "outputs": [
    {
     "name": "stdout",
     "output_type": "stream",
     "text": [
      "30\n"
     ]
    }
   ],
   "source": [
    "#defining a function\n",
    "def add(y):           # parameter\n",
    "    x = 10\n",
    "    return x + y\n",
    "#calling a function\n",
    "sum = add(20)         # argument\n",
    "print (sum)"
   ]
  },
  {
   "cell_type": "code",
   "execution_count": 27,
   "metadata": {},
   "outputs": [
    {
     "name": "stdout",
     "output_type": "stream",
     "text": [
      "30\n",
      "10\n"
     ]
    }
   ],
   "source": [
    "# Return Statement Multiple Value\n",
    "\n",
    "#defining a function\n",
    "def add(y):\n",
    "    x = 10\n",
    "    c = x+y\n",
    "    d = y-x\n",
    "    return c, d\n",
    "\n",
    "#calling a function\n",
    "sum, sub = add(20)\n",
    "print (sum)\n",
    "print (sub)"
   ]
  },
  {
   "cell_type": "markdown",
   "metadata": {},
   "source": [
    "### Nested Function\n",
    "####  When we define one function inside another function, it is also known as Nested Function\n",
    " "
   ]
  },
  {
   "cell_type": "code",
   "execution_count": 28,
   "metadata": {},
   "outputs": [
    {
     "name": "stdout",
     "output_type": "stream",
     "text": [
      "Disp Function.\n",
      "Show Function.\n"
     ]
    }
   ],
   "source": [
    "#nested function\n",
    "def disp():\n",
    "    def show():\n",
    "        print (\"Show Function.\")\n",
    "    print (\"Disp Function.\")\n",
    "    show()\n",
    "disp ()"
   ]
  },
  {
   "cell_type": "code",
   "execution_count": 32,
   "metadata": {},
   "outputs": [
    {
     "name": "stdout",
     "output_type": "stream",
     "text": [
      "Show Function Disp Function\n"
     ]
    }
   ],
   "source": [
    "#nested function with return statement\n",
    "def disp():\n",
    "    def show():\n",
    "        return \"Show Function\"\n",
    "    result = show () + \" Disp Function\"\n",
    "    return result \n",
    "\n",
    "a = disp()\n",
    "print (a)"
   ]
  },
  {
   "cell_type": "code",
   "execution_count": 35,
   "metadata": {},
   "outputs": [
    {
     "name": "stdout",
     "output_type": "stream",
     "text": [
      "Show Function Nasir Disp Function\n"
     ]
    }
   ],
   "source": [
    "#nested function with return statement\n",
    "def disp(state):\n",
    "    def show():\n",
    "        return \"Show Function\"\n",
    "    result = show () +  state + \" Disp Function\"\n",
    "    return result \n",
    "\n",
    "print (disp(\" Nasir\"))"
   ]
  },
  {
   "cell_type": "markdown",
   "metadata": {},
   "source": [
    "### Pass a Function as Parameter\n",
    "#### We can pass a function as parameter to another function."
   ]
  },
  {
   "cell_type": "code",
   "execution_count": 38,
   "metadata": {},
   "outputs": [
    {
     "name": "stdout",
     "output_type": "stream",
     "text": [
      "Disp Function Show Function\n"
     ]
    }
   ],
   "source": [
    "#Pass a function as a parameter\n",
    "def disp (show_argu):\n",
    "    print (\"Disp Function\" + show_argu())\n",
    "\n",
    "def show ():\n",
    "    return \" Show Function\"\n",
    "\n",
    "disp (show)"
   ]
  },
  {
   "cell_type": "markdown",
   "metadata": {},
   "source": [
    "### Function Can Return Another Function\n"
   ]
  },
  {
   "cell_type": "code",
   "execution_count": 39,
   "metadata": {},
   "outputs": [
    {
     "name": "stdout",
     "output_type": "stream",
     "text": [
      "Disp Function\n",
      "Show Function\n"
     ]
    }
   ],
   "source": [
    "#Function return anohter function\n",
    "def disp():\n",
    "    def show ():\n",
    "        return \"Show Function\"\n",
    "    print (\"Disp Function\")\n",
    "    return show\n",
    "\n",
    "r_sh = disp ()\n",
    "print (r_sh())"
   ]
  },
  {
   "cell_type": "code",
   "execution_count": 40,
   "metadata": {},
   "outputs": [
    {
     "name": "stdout",
     "output_type": "stream",
     "text": [
      "Disp Function\n",
      "Show Function\n"
     ]
    }
   ],
   "source": [
    "#Function return anohter function\n",
    "def disp(sh):\n",
    "    print (\"Disp Function\")\n",
    "    return sh\n",
    "def show ():\n",
    "    return \"Show Function\"\n",
    "\n",
    "r_sh = disp (show)\n",
    "print (r_sh())"
   ]
  },
  {
   "cell_type": "markdown",
   "metadata": {},
   "source": [
    "### Actual & Formal Argument\n",
    "    Formal Argument:\n",
    "    Function definition parameters are called as formal argumenent\n",
    "    Actual Argument:\n",
    "    Function call arguments are called as actual arguments."
   ]
  },
  {
   "cell_type": "markdown",
   "metadata": {},
   "source": [
    "### Types of Actual Arguments\n",
    "#### 1. Positional Arguments \n",
    "#### 2. Keyword Arguments \n",
    "#### 3. Default Arguments \n",
    "#### 4. Variable Length Arguments \n",
    "#### 5. Keyword Variable Length Arguments "
   ]
  },
  {
   "cell_type": "markdown",
   "metadata": {},
   "source": [
    "### Positional Arguments\n",
    "#### These arguments are passed to the function in correct order. The number of arguments and their positions in the function definition should be equal to the number and position of the argument in the function call."
   ]
  },
  {
   "cell_type": "code",
   "execution_count": 42,
   "metadata": {},
   "outputs": [
    {
     "name": "stdout",
     "output_type": "stream",
     "text": [
      "25\n"
     ]
    }
   ],
   "source": [
    "def pw (x,y):\n",
    "    z = x**y\n",
    "    print (z)\n",
    "pw (5,2)"
   ]
  },
  {
   "cell_type": "markdown",
   "metadata": {},
   "source": [
    "### Keyword Arguments\n",
    "#### These arguments are passed to the function with name-value pair so keyword arguments can identify the formal argument by their names. The keyword argument's name and formal argument's name must match."
   ]
  },
  {
   "cell_type": "code",
   "execution_count": 43,
   "metadata": {},
   "outputs": [
    {
     "name": "stdout",
     "output_type": "stream",
     "text": [
      "Nasir 25\n"
     ]
    }
   ],
   "source": [
    "def show (name, age):\n",
    "    print (name, age)\n",
    "show (name = \"Nasir\", age=25)\n"
   ]
  },
  {
   "cell_type": "code",
   "execution_count": 44,
   "metadata": {},
   "outputs": [
    {
     "name": "stdout",
     "output_type": "stream",
     "text": [
      "Nasir 25 10016\n"
     ]
    }
   ],
   "source": [
    "def show (name, age, roll):\n",
    "    print (name, age, roll)\n",
    "show (name = \"Nasir\", age=25, roll=10016)"
   ]
  },
  {
   "cell_type": "code",
   "execution_count": 50,
   "metadata": {},
   "outputs": [
    {
     "name": "stdout",
     "output_type": "stream",
     "text": [
      "Name: Nasir , Age:25\n"
     ]
    }
   ],
   "source": [
    "# we can also give formating to string\n",
    "\n",
    "def show (name, age):\n",
    "    print (f\"Name: {name} , Age:{age}\")\n",
    "show (name = \"Nasir\", age=25)"
   ]
  },
  {
   "cell_type": "markdown",
   "metadata": {},
   "source": [
    "### Default Arguments\n",
    "#### Sometime we mention default value to the formal argument in function definition and we may not required to provide actual argument, In this case default argument will be used by formal argument.\n",
    "\n",
    "#### If we do not provide actual argument for formal argument explicitly while calling the function then the formal argument will use default value on the other hand if we provide actual argument then it will use provided value. \n"
   ]
  },
  {
   "cell_type": "code",
   "execution_count": 51,
   "metadata": {},
   "outputs": [
    {
     "name": "stdout",
     "output_type": "stream",
     "text": [
      "Nasir 25\n"
     ]
    }
   ],
   "source": [
    "def show (name, age = 25):\n",
    "    print (name, age)\n",
    "show (name = \"Nasir\")\n"
   ]
  },
  {
   "cell_type": "markdown",
   "metadata": {},
   "source": [
    "### Variable Length Arguments\n",
    "#### Variabl Length argument is an argument that can accept any number of values. The variable length argument is written with * symbol.\n",
    "\n",
    "#### It stores all the value in a tuple. "
   ]
  },
  {
   "cell_type": "code",
   "execution_count": 52,
   "metadata": {},
   "outputs": [
    {
     "name": "stdout",
     "output_type": "stream",
     "text": [
      "8\n"
     ]
    }
   ],
   "source": [
    "def add (*num):\n",
    "    z = num[0] + num[1] + num[2]\n",
    "    print (z)\n",
    "add (2,1,5)"
   ]
  },
  {
   "cell_type": "markdown",
   "metadata": {},
   "source": [
    "### Keyword Variable Length Arguments\n",
    "#### Keyword Variabl Length argument is an argument that can accept any number of values provided in the form of key-value pair. The variable length argument is written with ** symbol.\n",
    "\n",
    "#### It stores all the value in a dictionary in the form of key-value pair.\n"
   ]
  },
  {
   "cell_type": "code",
   "execution_count": 53,
   "metadata": {},
   "outputs": [
    {
     "name": "stdout",
     "output_type": "stream",
     "text": [
      "8\n"
     ]
    }
   ],
   "source": [
    "def add (**num):\n",
    "    z = num['a'] + num['b'] + num['c']\n",
    "    print (z)\n",
    "add (a=2,b=1,c=5)"
   ]
  },
  {
   "cell_type": "markdown",
   "metadata": {},
   "source": [
    "### Anonymous Function or Lambdas \n",
    "#### A function without a name is called as Anonymous Function. It is also known as Lambda Function.\n",
    "#### Anonymous Function are not defined using def keyword rather they are defined using lambda keyword."
   ]
  },
  {
   "cell_type": "code",
   "execution_count": 54,
   "metadata": {},
   "outputs": [
    {
     "data": {
      "text/plain": [
       "<function __main__.<lambda>(x, y)>"
      ]
     },
     "execution_count": 54,
     "metadata": {},
     "output_type": "execute_result"
    }
   ],
   "source": [
    "#defining a Lambda Function\n",
    "lambda x,y: x+y"
   ]
  },
  {
   "cell_type": "code",
   "execution_count": 56,
   "metadata": {},
   "outputs": [
    {
     "data": {
      "text/plain": [
       "6"
      ]
     },
     "execution_count": 56,
     "metadata": {},
     "output_type": "execute_result"
    }
   ],
   "source": [
    "#calling a Lambda Function\n",
    "sum = lambda x: x+1\n",
    "sum (5)"
   ]
  },
  {
   "cell_type": "code",
   "execution_count": null,
   "metadata": {},
   "outputs": [],
   "source": []
  }
 ],
 "metadata": {
  "kernelspec": {
   "display_name": "Python 3",
   "language": "python",
   "name": "python3"
  },
  "language_info": {
   "codemirror_mode": {
    "name": "ipython",
    "version": 3
   },
   "file_extension": ".py",
   "mimetype": "text/x-python",
   "name": "python",
   "nbconvert_exporter": "python",
   "pygments_lexer": "ipython3",
   "version": "3.8.5"
  }
 },
 "nbformat": 4,
 "nbformat_minor": 4
}
