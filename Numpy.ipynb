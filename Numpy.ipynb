{
 "cells": [
  {
   "cell_type": "markdown",
   "metadata": {},
   "source": [
    "# Numpy"
   ]
  },
  {
   "cell_type": "markdown",
   "metadata": {},
   "source": [
    "### In Python, Numpy is a package which contain variable, functions, classes and large library of methematic function to work with scientific calculations. \n",
    "#### Numpy can be used to create 'n' dimentional Arrays where 'n' is any integer. We can create 1-Dimentional Array, 2-D Array, 3-D Array and so on....\n",
    "\n",
    "#### Numpy's Array class is called 'nd-array'. It is also know as 'alias' name array. There is anpther class array in Pythone which is different from Numpy's Array class.....\n"
   ]
  },
  {
   "cell_type": "markdown",
   "metadata": {},
   "source": []
  },
  {
   "cell_type": "markdown",
   "metadata": {},
   "source": [
    "                                                                                                                                                                                                                                                                                                                                                                                                                                                                                                                                                                                                                                                                                                                                                                                                                                                                                                                                                                                                                                                                                                                                                                                                                                                                                                                                                                                                                                                                                                                                                                                                                                                                                                                                                                                                        # Import Numpy\n",
    "    There are two way to import Numpy:\n",
    "    1. import numpy\n",
    "                   -This will import the entire numpy module.\n",
    "    2. from numpy import*\n",
    "                   -This will import all variables, classes, objects etc from numpy package\n",
    "                   -Here * means All"
   ]
  },
  {
   "cell_type": "markdown",
   "metadata": {},
   "source": [
    "# One Dimentional Array- Single Row, Multiple Colums"
   ]
  },
  {
   "cell_type": "markdown",
   "metadata": {},
   "source": [
    "### Ways of Creating Array in Numpya\n",
    "    array () Function\n",
    "    linspace () Function\n",
    "    logspace () Function\n",
    "    arange () Function\n",
    "    zeros () Function\n",
    "    ones () Function\n"
   ]
  },
  {
   "cell_type": "markdown",
   "metadata": {},
   "source": [
    "## array () function\n",
    "    array() function of numpy is used to create an array.\n",
    "### Syntax:\n",
    "####    numpy.array(object, dtype=none, copy=True, order='K', subok=False, ndmin=0)\n",
    "\n",
    "#### from numpy import*\n",
    "#### array_name = numpy.array([elements])\n",
    "    Ex by using method-1:-\n",
    "    import numpy\n",
    "    stu_roll = numpy.array([10,20,30,40,50])\n",
    "    stu_roll = numpy.array([10,20,30,40,50], int)               #int is dtype\n",
    "    stu_roll = numpy.array([10.1,20.5,30.7,40.2,50.3], float)   #float is dtype\n",
    "    stu_roll = numpy.array(['s','b','c','d'])               \n",
    "    stu_name = numpy.array(['Nasir','Ali','Yasir'], str)        #str is dtype             \n",
    "    \n",
    "    \n",
    "    Ex by using method-2:- In this method, we don't need to use use 'numpy ' in our variables\n",
    "                           So, This method is much more easy as compare to method-1\n",
    "    from numpy import *\n",
    "    stu_roll = array([10,20,30,40,50])\n",
    "    stu_roll = array([10,20,30,40,50], int)               #int is dtype\n",
    "    stu_roll = array([10.1,20.5,30.7,40.2,50.3], float)   #float is dtype\n",
    "    stu_roll = array(['s','b','c','d'])               \n",
    "    stu_name = array(['Nasir','Ali','Yasir'], str)        #str is dtype             \n",
    "    \n",
    "    \n",
    "    \n",
    "    \n",
    "    \n",
    "     "
   ]
  },
  {
   "cell_type": "code",
   "execution_count": 26,
   "metadata": {},
   "outputs": [
    {
     "name": "stdout",
     "output_type": "stream",
     "text": [
      "10\n",
      "20\n",
      "30\n",
      "40\n",
      "50\n",
      "Given Array: [10 20 30 40 50]\n",
      "Type of given Array: <class 'numpy.ndarray'>\n",
      " \n",
      "After modifying the first element of given array is  15\n",
      "The given array datatype is  int32\n"
     ]
    }
   ],
   "source": [
    "#Index: An index represent the position number of an array's elements\n",
    "# Ex:- number of index always be 1 point less than number of element becuase index alway started from 0 by defaul in pytho\n",
    "    \n",
    "from numpy import*\n",
    "stu_roll = array([10,20,30,40,50])\n",
    "print(stu_roll[0])         # stu_roll = 10\n",
    "print(stu_roll[1])         # stu_roll = 20\n",
    "print(stu_roll[2])         # stu_roll = 30\n",
    "print(stu_roll[3])         # stu_roll = 40\n",
    "print(stu_roll[4])         # stu_roll = 50\n",
    "print(\"Given Array:\", stu_roll)\n",
    "print (\"Type of given Array:\",type(stu_roll))\n",
    "print(\" \")\n",
    "\n",
    "# we can also modidy an array\n",
    "\n",
    "stu_roll[0]= 15\n",
    "print (\"After modifying the first element of given array is \",stu_roll[0])\n",
    "print (\"The given array datatype is \", stu_roll.dtype)"
   ]
  },
  {
   "cell_type": "code",
   "execution_count": null,
   "metadata": {},
   "outputs": [],
   "source": [
    "#we can also sotre chracters in an array\n",
    "from numpy import*\n",
    "stu_roll = array(['a','b','c','d'])\n",
    "print(stu_roll[0])         # stu_roll = a\n",
    "print(stu_roll[1])         # stu_roll = b\n",
    "print(stu_roll[2])         # stu_roll = c\n",
    "print(stu_roll[3])         # stu_roll = d\n",
    "print(stu_roll[4])         # stu_roll = error because it is out of bound\n"
   ]
  },
  {
   "cell_type": "code",
   "execution_count": 35,
   "metadata": {},
   "outputs": [
    {
     "name": "stdout",
     "output_type": "stream",
     "text": [
      "Nasie\n",
      "Yasir\n",
      "Adil\n",
      "Ali\n",
      "<U5\n"
     ]
    }
   ],
   "source": [
    "# we can also store string in an array\n",
    "#we can also sotre chracters in an array\n",
    "from numpy import*\n",
    "stu_name = array(['Nasie','Yasir','Adil','Ali'])\n",
    "print(stu_name[0])         # stu_roll = a\n",
    "print(stu_name[1])         # stu_roll = b\n",
    "print(stu_name[2])         # stu_roll = c\n",
    "print(stu_name[3])         # stu_roll = d\n",
    "print(stu_name.dtype)      # U5 means that the maximum chracter in a given array is 5"
   ]
  },
  {
   "cell_type": "markdown",
   "metadata": {},
   "source": [
    "### Accessing Array Using for-loop\n",
    "#### Syntax:\n",
    "    from numpy import*\n",
    "    array_name = array(['a','b','c','d'])\n",
    "    \n",
    "##### Without Index\n",
    "    for element in array_name:\n",
    "        print (element)\n",
    "        \n",
    "##### With Index\n",
    "    n = len(array_name)          # len() funcion tell the number of elements not index number\n",
    "    for i in range(n):           # range() function tell the index number\n",
    "       print (array_name[i])\n",
    "        "
   ]
  },
  {
   "cell_type": "code",
   "execution_count": 45,
   "metadata": {},
   "outputs": [
    {
     "name": "stdout",
     "output_type": "stream",
     "text": [
      "10\n",
      "20\n",
      "30\n",
      "40\n",
      "50\n"
     ]
    }
   ],
   "source": [
    "# without index number\n",
    "from numpy import*\n",
    "stu_roll = array ([10,20,30,40,50])\n",
    "\n",
    "for element in stu_roll:             # element is a variable in which number of elements can be store\n",
    "    print (element)"
   ]
  },
  {
   "cell_type": "code",
   "execution_count": 51,
   "metadata": {},
   "outputs": [
    {
     "name": "stdout",
     "output_type": "stream",
     "text": [
      "index 0 = 10\n",
      "index 1 = 20\n",
      "index 2 = 30\n"
     ]
    }
   ],
   "source": [
    "# with index number\n",
    "from numpy import*\n",
    "stu_roll = array ([10,20,30])\n",
    "\n",
    "n = len(stu_roll)             # it tells, how many number elements that will assign in 'n' which will be 3\n",
    "\n",
    "for i in range(n):            # i can be chnage because it's variable name,and range function will assign the index numbers\n",
    "    print (\"index\", i, \"=\", stu_roll[i])\n"
   ]
  },
  {
   "cell_type": "markdown",
   "metadata": {},
   "source": [
    "### Accessing Array Using while-loop\n",
    "#### Syntax:\n",
    "#### Without Index\n",
    "    from numpy import*\n",
    "    array_name = array(['a','b','c'])\n",
    "    \n",
    "    n = len(array_name)\n",
    "    \n",
    "    i=0\n",
    "    while i<n:\n",
    "        print (array_name[i])\n",
    "        i += 1\n",
    "#### With Index\n",
    "    from numpy import*\n",
    "    array_name = array(['a','b','c'])\n",
    "    \n",
    "    n = len(array_name)\n",
    "    \n",
    "    i=0\n",
    "    while i<n:\n",
    "        print (i, array_name[i])\n",
    "        i += 1\n"
   ]
  },
  {
   "cell_type": "code",
   "execution_count": 52,
   "metadata": {},
   "outputs": [
    {
     "name": "stdout",
     "output_type": "stream",
     "text": [
      "10\n",
      "20\n",
      "30\n"
     ]
    }
   ],
   "source": [
    "#without index num\n",
    "from numpy import*\n",
    "stu_roll = array ([10,20,30])\n",
    "\n",
    "n = len(stu_roll)         # it tells, the number of elements in a given an array\n",
    "\n",
    "i = 0         # for while-loop, we need to assign a variable \n",
    "while i<n:\n",
    "    print (stu_roll[i])\n",
    "    i+=1"
   ]
  },
  {
   "cell_type": "markdown",
   "metadata": {},
   "source": [
    "# linspace () function\n",
    "     linspace () Function is use to create an array with even spaced numbers between starting point and stop point\n",
    "### Syntax:\n",
    "#### numpy.linspace(start, stop, num=50, endpoint=True, retstep=False, dtyp= None, axix=0)\n",
    "    where:\n",
    "         start - It represents starting point\n",
    "         stop  - It represents ending point\n",
    "         num   - It represents the number of parts the element should be divided. By default is 50, \n",
    "                 it must be non-negative.\n",
    "         endponit - if True,then the stop point is the last element. \n",
    "                    if False, then the stop point is not included\n",
    " \n",
    " \n",
    " ### Creating Array Using linspace () Function:\n",
    " ### Syntax:\n",
    "    from numpy import*\n",
    "    array_name = linspace (start, stop, num=50, endpoint=True) \n",
    "                           # endpoint will be 'True' by default, it does not meter if you write or not\n",
    "              \n",
    "    Ex:-\n",
    "    from numpy import *\n",
    "    a = linspace (1,8)           # num=50, by defual it will will divide the number between 1 to 8                                       in 50 parts becuase it takes 50 by-default\n",
    "    a = linspace (1,8,num=5)     # num=5, in this case it will divide the number between 1 to 8\n",
    "    a = linspace (1,8,5)           in 5 parts because we mentioned in it's linspace () function.\n",
    "    \n",
    "    a = linspace (1,8,5, endpoint=False) # If we mention endpoint is False then it will not include                                               the last digit like in this it will not considet the                                                    number 8....\n",
    "    \n",
    "    \n",
    "    Note: we can access using for-loop and while-loop"
   ]
  },
  {
   "cell_type": "markdown",
   "metadata": {},
   "source": [
    "### Accessing linspace () fucntion"
   ]
  },
  {
   "cell_type": "code",
   "execution_count": 111,
   "metadata": {},
   "outputs": [
    {
     "name": "stdout",
     "output_type": "stream",
     "text": [
      "[ 1.    3.25  5.5   7.75 10.  ]\n",
      " \n",
      "1.0\n",
      "3.25\n",
      "5.5\n",
      "7.75\n",
      "10.0\n",
      " \n",
      "[ 1.          1.18367347  1.36734694  1.55102041  1.73469388  1.91836735\n",
      "  2.10204082  2.28571429  2.46938776  2.65306122  2.83673469  3.02040816\n",
      "  3.20408163  3.3877551   3.57142857  3.75510204  3.93877551  4.12244898\n",
      "  4.30612245  4.48979592  4.67346939  4.85714286  5.04081633  5.2244898\n",
      "  5.40816327  5.59183673  5.7755102   5.95918367  6.14285714  6.32653061\n",
      "  6.51020408  6.69387755  6.87755102  7.06122449  7.24489796  7.42857143\n",
      "  7.6122449   7.79591837  7.97959184  8.16326531  8.34693878  8.53061224\n",
      "  8.71428571  8.89795918  9.08163265  9.26530612  9.44897959  9.63265306\n",
      "  9.81632653 10.        ]\n",
      " \n",
      "[1.  2.8 4.6 6.4 8.2]\n"
     ]
    }
   ],
   "source": [
    "from numpy import*\n",
    "a = linspace (1,10,5)\n",
    "print (a)\n",
    "\n",
    "#we can also call its index number\n",
    "print (\" \")\n",
    "print (a[0])\n",
    "print (a[1])\n",
    "print (a[2])\n",
    "print (a[3])\n",
    "print (a[4])\n",
    "\n",
    "print (\" \")\n",
    "\n",
    "# by-default division between two numbers\n",
    "from numpy import*\n",
    "b = linspace (1,10)\n",
    "print (b)\n",
    "\n",
    "print (\" \")\n",
    "\n",
    "# what  if we use endpoint is false???\n",
    "from numpy import*\n",
    "c = linspace (1,10, 5, endpoint=False)\n",
    "print (c)"
   ]
  },
  {
   "cell_type": "markdown",
   "metadata": {},
   "source": [
    "### Accessing linspace () fucntion using for-loop & while-loop\n"
   ]
  },
  {
   "cell_type": "code",
   "execution_count": 108,
   "metadata": {},
   "outputs": [
    {
     "name": "stdout",
     "output_type": "stream",
     "text": [
      "1.0\n",
      "2.75\n",
      "4.5\n",
      "6.25\n",
      "8.0\n",
      " \n",
      "index 0 = 1.0\n",
      "index 1 = 2.75\n",
      "index 2 = 4.5\n",
      "index 3 = 6.25\n",
      "index 4 = 8.0\n",
      " \n",
      "1.0\n",
      "2.75\n",
      "4.5\n",
      "6.25\n",
      "8.0\n"
     ]
    }
   ],
   "source": [
    "#using for-loop\n",
    "from numpy import*\n",
    "a = linspace (1,8,5)\n",
    "\n",
    "#Without Index:\n",
    "for elements in a:\n",
    "    print (elements)\n",
    "    \n",
    "print (\" \")\n",
    "\n",
    "#With Index\n",
    "n = len(a)\n",
    "for i in range(n):\n",
    "    print(\"index\", i, \"=\", a[i])\n",
    "    \n",
    "    \n",
    "print (\" \")\n",
    "\n",
    "#using while loop\n",
    "x = 0\n",
    "while x<n:\n",
    "    print (a[x])\n",
    "    x+=1\n"
   ]
  },
  {
   "cell_type": "markdown",
   "metadata": {},
   "source": [
    "# logspace () function\n",
    "     logspace () function is used to create an array with evenly spaced numbers logarithmically. \n",
    "     The sequence at base ** start(base to the poswer of start) and ends iwth base** stop.\n",
    "        \n",
    "### Syntax:\n",
    "#### numpy.logspace(start, stop, num=50, endpoint=True, base=10.0, dtyp= None, axix=0)\n",
    "    where: \n",
    "         start - It represents starting element which will become base \n",
    "                 to the power of start(base^ start)\n",
    "         stop  - It represents starting element which will become base \n",
    "                 to the power of stop(base^ stop)\n",
    "         num   - It represents the number of parts the element should be divided. By default is 50, \n",
    "                 it must be non-negative.\n",
    "         endponit - if True,then the stop point is the last element. \n",
    "                    if False, then the stop point is not included\n",
    "         base  - The base of the log space.\n",
    "         dtype - The type of an array\n",
    " \n",
    " ### Creating Array Using logspace () Function:\n",
    " ### Syntax:\n",
    "     from numpy import*\n",
    "     array_name = logpace numpy.logspace(start, stop, num=50, endpoint=True, base=10.0, dtyp= None,                                            axix=0)\n",
    "     \n",
    "     Ex:\n",
    "     from numpy import*\n",
    "     a = logspace(1,3)         # by default it will divide into 50 parts\n",
    "     a = arrange(1,3,5)        # it will divide into 5 parts\n",
    "     "
   ]
  },
  {
   "cell_type": "markdown",
   "metadata": {},
   "source": [
    "### Accessing logspace () function\n"
   ]
  },
  {
   "cell_type": "code",
   "execution_count": 105,
   "metadata": {},
   "outputs": [
    {
     "name": "stdout",
     "output_type": "stream",
     "text": [
      "[  10.           31.6227766   100.          316.22776602 1000.        ]\n",
      " \n",
      "[  12.           41.56921938  144.          498.83063258 1728.        ]\n"
     ]
    }
   ],
   "source": [
    "from numpy import*\n",
    "a = logspace (1,3,5)     # by default the base = 10.0\n",
    "print (a)\n",
    "\n",
    "print(\" \")\n",
    "\n",
    "b = logspace (1,3,5, base=12.0)         # by user requirement, we can create specific base\n",
    "print(b)\n"
   ]
  },
  {
   "cell_type": "markdown",
   "metadata": {},
   "source": [
    "### Accessing logspace () function using for-loop & while-loop"
   ]
  },
  {
   "cell_type": "code",
   "execution_count": 106,
   "metadata": {},
   "outputs": [
    {
     "name": "stdout",
     "output_type": "stream",
     "text": [
      "10.0\n",
      "31.622776601683793\n",
      "100.0\n",
      "316.22776601683796\n",
      "1000.0\n",
      " \n",
      "index 0 = 10.0\n",
      "index 1 = 31.622776601683793\n",
      "index 2 = 100.0\n",
      "index 3 = 316.22776601683796\n",
      "index 4 = 1000.0\n",
      " \n",
      "10.0\n",
      "31.622776601683793\n",
      "100.0\n",
      "316.22776601683796\n",
      "1000.0\n"
     ]
    }
   ],
   "source": [
    "# using for-loop\n",
    "from numpy import*\n",
    "a = logspace (1,3,5)\n",
    "\n",
    "#Without Index:\n",
    "for elements in a:\n",
    "    print (elements)\n",
    "    \n",
    "print (\" \")\n",
    "\n",
    "#With Index\n",
    "n = len(a)\n",
    "for i in range(n):\n",
    "    print(\"index\", i, \"=\", a[i])\n",
    "    \n",
    "    \n",
    "print (\" \")\n",
    "\n",
    "#using while loop\n",
    "x = 0\n",
    "while x<n:\n",
    "    print (a[x])\n",
    "    x+=1"
   ]
  },
  {
   "cell_type": "markdown",
   "metadata": {},
   "source": [
    "# arange () function\n",
    "     a-range () function is used to create an array with a group of elements from start to one element prior to stop in steps of stepsize.\n",
    "    \n",
    "### Syntax:\n",
    "#### numpy.arange(start, stop,stepsize, dtyp= None)\n",
    "    where:\n",
    "         start - It represents starting point, the default start value is 0.\n",
    "         stop  - It represents ending point, the intervarl does not include this value, \n",
    "                 except in some cases where step is not an integer and floating point \n",
    "                 round-off affects the length of out.\n",
    "        \n",
    "      stepsize - Spacing between values. The default stepzise is 1.\n",
    " \n",
    " \n",
    " ### Creating Array Using arange () Function:\n",
    " ### Syntax:\n",
    "     from numpy import*\n",
    "     array_name = arrange (start,stop,stepsize,dtype=None)\n",
    "     \n",
    "     Ex:\n",
    "     from numpy import*\n",
    "     a = arange(5)\n",
    "     a = arrange(0,5,1)        #starting point is 0, ending point is 5 but 5 will not include,                                          stepsize is 1\n",
    "     "
   ]
  },
  {
   "cell_type": "markdown",
   "metadata": {},
   "source": [
    "### Accessing arange () function"
   ]
  },
  {
   "cell_type": "code",
   "execution_count": 88,
   "metadata": {},
   "outputs": [
    {
     "name": "stdout",
     "output_type": "stream",
     "text": [
      "[0 1 2 3 4]\n",
      "[0 1 2 3 4]\n",
      "[0 1 2 3 4]\n"
     ]
    }
   ],
   "source": [
    "from numpy import*\n",
    "a = arange (5)     # 5 will not include\n",
    "print (a)\n",
    "\n",
    "b = arange (0,5)\n",
    "print(b)\n",
    "\n",
    "c = arange (0,5,1)\n",
    "print (c)"
   ]
  },
  {
   "cell_type": "markdown",
   "metadata": {},
   "source": [
    "### Accessing arange () function using for-loop & while-loop"
   ]
  },
  {
   "cell_type": "code",
   "execution_count": 95,
   "metadata": {},
   "outputs": [
    {
     "name": "stdout",
     "output_type": "stream",
     "text": [
      "1\n",
      "2\n",
      "3\n",
      "4\n",
      " \n",
      "index 0 = 1\n",
      "index 1 = 2\n",
      "index 2 = 3\n",
      "index 3 = 4\n",
      " \n",
      "1\n",
      "2\n",
      "3\n",
      "4\n"
     ]
    }
   ],
   "source": [
    "#using for-loop\n",
    "from numpy import*\n",
    "a = arange (1,5,1)\n",
    "\n",
    "#Without Index:\n",
    "for elements in a:\n",
    "    print (elements)\n",
    "    \n",
    "print (\" \")\n",
    "\n",
    "#With Index\n",
    "n = len(a)\n",
    "for i in range(n):\n",
    "    print(\"index\", i, \"=\", a[i])\n",
    "    \n",
    "    \n",
    "print (\" \")\n",
    "\n",
    "#using while loop\n",
    "x = 0\n",
    "while x<n:\n",
    "    print (a[x])\n",
    "    x+=1\n"
   ]
  },
  {
   "cell_type": "markdown",
   "metadata": {},
   "source": [
    "# zeros () function\n",
    "     zeros () Function is used to create an array with all zeros elements.\n",
    "### Syntax:\n",
    "#### numpy.zeros (shape, dtype=float, order = 'C')\n",
    "    where:\n",
    "         shape - It represents the shape of new array, It can be an int which will represent the                        number of elements or can be tuple of int. ex:- 5, (5,),(5,1)\n",
    "         dtype - The desired data-type for the array.\n",
    "         order - Wheter to store multi-dimensional data in row-major(C-Style) or \n",
    "                 column-major (Fortan-style) order in memeory. It can be C or F\n",
    " \n",
    " ### Creating Array Using zeros () Function:\n",
    " ### Syntax:\n",
    "     from numpy import*\n",
    "     array_name = numpy.zeros (shape, dtype=float)\n",
    "     \n",
    "     Ex:\n",
    "     from numpy import*\n",
    "     a = zeros (5)\n",
    "     a = arrange(5,dtype=int) "
   ]
  },
  {
   "cell_type": "markdown",
   "metadata": {},
   "source": [
    "### Accessing zeros () function"
   ]
  },
  {
   "cell_type": "code",
   "execution_count": 97,
   "metadata": {},
   "outputs": [
    {
     "name": "stdout",
     "output_type": "stream",
     "text": [
      "[0. 0. 0. 0. 0.]\n",
      "[0 0 0 0 0]\n",
      "[0. 0. 0. 0. 0.]\n"
     ]
    }
   ],
   "source": [
    "from numpy import*\n",
    "a = zeros (5)     # there will be 5 zeros in a single row\n",
    "print (a)\n",
    "\n",
    "b = zeros (5, dtype=int)\n",
    "print(b)\n",
    "\n",
    "c = zeros (5,dtype= float)\n",
    "print (c)"
   ]
  },
  {
   "cell_type": "markdown",
   "metadata": {},
   "source": [
    "### Accessing zeros () function using for-loop & while-loop"
   ]
  },
  {
   "cell_type": "code",
   "execution_count": 98,
   "metadata": {},
   "outputs": [
    {
     "name": "stdout",
     "output_type": "stream",
     "text": [
      "0\n",
      "0\n",
      "0\n",
      "0\n",
      "0\n",
      " \n",
      "index 0 = 0\n",
      "index 1 = 0\n",
      "index 2 = 0\n",
      "index 3 = 0\n",
      "index 4 = 0\n",
      " \n",
      "0\n",
      "0\n",
      "0\n",
      "0\n",
      "0\n"
     ]
    }
   ],
   "source": [
    "#using for-loop\n",
    "from numpy import*\n",
    "a = zeros (5, dtype=int)\n",
    "\n",
    "#Without Index:\n",
    "for elements in a:\n",
    "    print (elements)\n",
    "    \n",
    "print (\" \")\n",
    "\n",
    "#With Index\n",
    "n = len(a)\n",
    "for i in range(n):\n",
    "    print(\"index\", i, \"=\", a[i])\n",
    "    \n",
    "    \n",
    "print (\" \")\n",
    "\n",
    "#using while loop\n",
    "x = 0\n",
    "while x<n:\n",
    "    print (a[x])\n",
    "    x+=1\n"
   ]
  },
  {
   "cell_type": "markdown",
   "metadata": {},
   "source": [
    "# ones () function\n",
    "     zeros () Function is used to create an array with all 1s elements.\n",
    "### Syntax:\n",
    "#### numpy.ones (shape, dtype=float, order = 'C')\n",
    "    where:\n",
    "         shape - It represents the shape of new array, It can be an int which will represent the                        number of elements or can be tuple of int. ex:- 5, (5,),(5,1)\n",
    "         dtype - The desired data-type for the array.\n",
    "         order - Wheter to store multi-dimensional data in row-major(C-Style) or \n",
    "                 column-major (Fortan-style) order in memeory. It can be C or F\n",
    " \n",
    " ### Creating Array Using ones () Function:\n",
    " ### Syntax:\n",
    "     from numpy import*\n",
    "     array_name = numpy.ones (shape, dtype=float)\n",
    "     \n",
    "     Ex:\n",
    "     from numpy import*\n",
    "     a = ones (5)\n",
    "     a = ones(5,dtype=int) "
   ]
  },
  {
   "cell_type": "markdown",
   "metadata": {},
   "source": [
    "### Accessing ones () function"
   ]
  },
  {
   "cell_type": "code",
   "execution_count": 100,
   "metadata": {},
   "outputs": [
    {
     "name": "stdout",
     "output_type": "stream",
     "text": [
      "[1. 1. 1. 1. 1.]\n",
      "[1 1 1 1 1]\n",
      "[1. 1. 1. 1. 1.]\n"
     ]
    }
   ],
   "source": [
    "from numpy import*\n",
    "a = ones (5)     # there will be 5 zeros in a single row\n",
    "print (a)\n",
    "\n",
    "b = ones (5, dtype=int)\n",
    "print(b)\n",
    "\n",
    "c = ones (5,dtype= float)\n",
    "print (c)"
   ]
  },
  {
   "cell_type": "markdown",
   "metadata": {},
   "source": [
    "### Accessing ones () function using for-loop & while-loop"
   ]
  },
  {
   "cell_type": "code",
   "execution_count": 101,
   "metadata": {},
   "outputs": [
    {
     "name": "stdout",
     "output_type": "stream",
     "text": [
      "1\n",
      "1\n",
      "1\n",
      "1\n",
      "1\n",
      " \n",
      "index 0 = 1\n",
      "index 1 = 1\n",
      "index 2 = 1\n",
      "index 3 = 1\n",
      "index 4 = 1\n",
      " \n",
      "1\n",
      "1\n",
      "1\n",
      "1\n",
      "1\n"
     ]
    }
   ],
   "source": [
    "#using for-loop\n",
    "from numpy import*\n",
    "a = ones (5, dtype=int)\n",
    "\n",
    "#Without Index:\n",
    "for elements in a:\n",
    "    print (elements)\n",
    "    \n",
    "print (\" \")\n",
    "\n",
    "#With Index\n",
    "n = len(a)\n",
    "for i in range(n):\n",
    "    print(\"index\", i, \"=\", a[i])\n",
    "    \n",
    "    \n",
    "print (\" \")\n",
    "\n",
    "#using while loop\n",
    "x = 0\n",
    "while x<n:\n",
    "    print (a[x])\n",
    "    x+=1\n"
   ]
  },
  {
   "cell_type": "markdown",
   "metadata": {},
   "source": [
    "# Mathemetical Operations on Arrays Using Numpy"
   ]
  },
  {
   "cell_type": "code",
   "execution_count": 112,
   "metadata": {},
   "outputs": [
    {
     "name": "stdout",
     "output_type": "stream",
     "text": [
      "[10 15 20 25 30]\n"
     ]
    }
   ],
   "source": [
    "from numpy import*\n",
    "a = array([5,10,15,20,25])\n",
    "a = a + 5  # similarly, we can subtract, multiply or divide two array using arithmetic operators\n",
    "print (a)"
   ]
  },
  {
   "cell_type": "code",
   "execution_count": 115,
   "metadata": {},
   "outputs": [
    {
     "name": "stdout",
     "output_type": "stream",
     "text": [
      "10\n",
      "15\n",
      "20\n",
      "25\n",
      "30\n"
     ]
    }
   ],
   "source": [
    "from numpy import*\n",
    "a = array([5,10,15,20,25])\n",
    "a = a + 5  # similarly, we can subtract, multiply or divide two array using arithmetic operators\n",
    "\n",
    "for element in a:\n",
    "    print (element)"
   ]
  },
  {
   "cell_type": "code",
   "execution_count": 116,
   "metadata": {},
   "outputs": [
    {
     "name": "stdout",
     "output_type": "stream",
     "text": [
      "[10 20 30 40 50]\n"
     ]
    }
   ],
   "source": [
    "from numpy import*\n",
    "a = array([5,10,15,20,25])\n",
    "b = array([5,10,15,20,25])\n",
    "c = a + b  # similarly, we can subtract, multiply or divide two array using arithmetic operators\n",
    "print (c)"
   ]
  },
  {
   "cell_type": "code",
   "execution_count": 118,
   "metadata": {},
   "outputs": [
    {
     "name": "stdout",
     "output_type": "stream",
     "text": [
      "20\n",
      "40\n",
      "60\n",
      "80\n",
      "100\n"
     ]
    }
   ],
   "source": [
    "from numpy import*\n",
    "a = array([5,10,15,20,25])\n",
    "b = array([5,10,15,20,25])\n",
    "c = a + c\n",
    "\n",
    "for el in c:\n",
    "    print (el)"
   ]
  },
  {
   "cell_type": "markdown",
   "metadata": {},
   "source": [
    "# Comparison Operations on Arrays Using Numpy\n",
    "    Comparison operators can be used to compare arrays. \n",
    "    The size of an array must be same.\n",
    "    Comparison operators compares the corresponding elements of teh array \n",
    "    and returns another array with Boolen value. \n",
    " \n",
    "### any() function & all() function\n",
    "#### any() function: This function reutrns 'True', if anyone elements of the iterable is True. If iterable is empty then returns 'False'.\n",
    "\n",
    "#### all() function: This function reutrns 'True', if all elements of the iterable are True or iterable is empty/\n"
   ]
  },
  {
   "cell_type": "code",
   "execution_count": 121,
   "metadata": {},
   "outputs": [
    {
     "name": "stdout",
     "output_type": "stream",
     "text": [
      "[ True False  True  True False]\n"
     ]
    }
   ],
   "source": [
    "from numpy import*\n",
    "a = array([5,10,15,20,25])\n",
    "b = array([5,12,15,20,50])   # size of a and b must be samce\n",
    "\n",
    "c= a==b                     # similarly, we can perform other copmarios like <,>,<=,>= etc.\n",
    "print (c)"
   ]
  },
  {
   "cell_type": "code",
   "execution_count": 125,
   "metadata": {},
   "outputs": [
    {
     "data": {
      "text/plain": [
       "True"
      ]
     },
     "execution_count": 125,
     "metadata": {},
     "output_type": "execute_result"
    }
   ],
   "source": [
    "#any () function \n",
    "from numpy import*\n",
    "a = array([5,10,15,20,25])\n",
    "b = array([5,12,15,30,25])  # if anylements are same in given two array then it will print the 'True'\n",
    "\n",
    "c = a==b\n",
    "any(c)"
   ]
  },
  {
   "cell_type": "code",
   "execution_count": 126,
   "metadata": {},
   "outputs": [
    {
     "data": {
      "text/plain": [
       "True"
      ]
     },
     "execution_count": 126,
     "metadata": {},
     "output_type": "execute_result"
    }
   ],
   "source": [
    "#all () function \n",
    "from numpy import*\n",
    "a = array([5,10,15,20,25])\n",
    "b = array([5,12,15,30,25])   # if all elements are same then it will print the 'True'\n",
    " \n",
    "c = a==b\n",
    "any(c)"
   ]
  },
  {
   "cell_type": "markdown",
   "metadata": {},
   "source": [
    "### where () Funtion:\n",
    "#### This function is used to create a new array which contain, returned element chosen from expression 1 or expression 2 depending on condition.\n",
    "#### If condition is Ture, then the epxression 1 will be executed elese expression 2 will be executed. \n",
    "\n",
    "### Syntax:\n",
    "#### numpy.where(condition, expression1, epxression2)\n",
    "\n",
    "    Ex:\n",
    "       a = array([1,2,3,4,5,6,7])\n",
    "       b = array([0,1,2,3,4,5,6])\n",
    "       c = where (a>b, a, b)"
   ]
  },
  {
   "cell_type": "code",
   "execution_count": 131,
   "metadata": {},
   "outputs": [
    {
     "name": "stdout",
     "output_type": "stream",
     "text": [
      "[0 1 2 3 4 5 6]\n"
     ]
    }
   ],
   "source": [
    "from numpy import*\n",
    "a = array([1,2,3,4,5,6,7])\n",
    "b = array([0,1,2,3,4,5,6])\n",
    "result = where (a<b, a, b)   # if the condition is true, then a-part will execute otherwise b-part will execure\n",
    "print (result)"
   ]
  },
  {
   "cell_type": "markdown",
   "metadata": {},
   "source": [
    "### where () Funtion:\n",
    "#### This function is used to determine the position of elements which are non-zero.\n",
    "#### This function returns an array that contains the indexes of the element of the array which are not equal to zero.\n",
    "### Syntax:\n",
    "#### numpy.nozero(array_name)\n",
    "\n",
    "    Ex:\n",
    "       a = array([1,2,3,4,5,6,7])\n",
    "       c = nonzero (a)"
   ]
  },
  {
   "cell_type": "code",
   "execution_count": 133,
   "metadata": {},
   "outputs": [
    {
     "name": "stdout",
     "output_type": "stream",
     "text": [
      "(array([1, 2, 4, 5, 6, 8, 9], dtype=int64),)\n"
     ]
    }
   ],
   "source": [
    "from numpy import*\n",
    "a = array([0, 1,2, 0 ,3,4,5, 0, 6,7])\n",
    "result = nonzero(a)\n",
    "print (result)"
   ]
  },
  {
   "cell_type": "markdown",
   "metadata": {},
   "source": [
    "## Aliasing Array\n",
    "#### Aliasing means giving another name to the existing object. It does not mean copying.\n",
    "\n",
    "    Ex:\n",
    "    a = array([1,2,3,4,5,6,7])\n",
    "    b = a                      # it does not mean both are same, it is use to give another name \n",
    "   "
   ]
  },
  {
   "cell_type": "code",
   "execution_count": 135,
   "metadata": {},
   "outputs": [
    {
     "name": "stdout",
     "output_type": "stream",
     "text": [
      "[1 2 3 4 5 6 7]\n",
      "[1 2 3 4 5 6 7]\n",
      "a 2970128129680\n",
      "b 2970128129680\n"
     ]
    }
   ],
   "source": [
    "from numpy import*\n",
    "a = array([1,2,3,4,5,6,7])\n",
    "b = a                      \n",
    "\n",
    "print (a)\n",
    "print (b)\n",
    "print (\"a\", id(a))\n",
    "print (\"b\", id(b))   # both addresses are same,just giving another name "
   ]
  },
  {
   "cell_type": "markdown",
   "metadata": {},
   "source": [
    "## view() Method\n",
    "#### This method is used to construct a new view of array with the same data of existing array. \n",
    "#### The existing array and new array will share different memory locations.\n",
    "#### If the new array get modified. the esisting will also be modified as the element in both the array  will be like mirror image.\n",
    "\n",
    "    Ex:\n",
    "    a = array([1,2,3,4,5,6,7])\n",
    "    b = a,view()                      # data will be same but memory location will be different\n",
    "                                    # modified data will also share in both array \n",
    "   "
   ]
  },
  {
   "cell_type": "code",
   "execution_count": 145,
   "metadata": {},
   "outputs": [
    {
     "name": "stdout",
     "output_type": "stream",
     "text": [
      "[1 2 3 4 5 6 7]\n",
      "[1 2 3 4 5 6 7]\n",
      "a 2970122563376\n",
      "b 2970122559696\n",
      " \n",
      "After Modification:\n",
      "[10 20  3  4  5  6  7]\n",
      "[10 20  3  4  5  6  7]\n",
      "a 2970122563376\n",
      "b 2970122559696\n"
     ]
    }
   ],
   "source": [
    "from numpy import*\n",
    "a = array([1,2,3,4,5,6,7])\n",
    "b = a.view()\n",
    "print (a)\n",
    "print (b)\n",
    "print (\"a\", id(a))\n",
    "print (\"b\", id(b))    # memory location will be different\n",
    "\n",
    "\n",
    "print (\" \")\n",
    "\n",
    "print (\"After Modification:\")\n",
    "a[1] = 20\n",
    "b[0] = 10\n",
    "print (a)\n",
    "print (b)\n",
    "print (\"a\", id(a))\n",
    "print (\"b\", id(b)) \n",
    "    "
   ]
  },
  {
   "cell_type": "markdown",
   "metadata": {},
   "source": [
    "## copy() Method\n",
    "#### This method is used to create a copy of an existing array. \n",
    "#### If the new array get modified. the esisting will not be affected or vice versa. Both arrays are independing in copy () method.\n",
    "\n",
    "    Ex:\n",
    "    a = array([1,2,3,4,5,6,7])\n",
    "    b = copy (a)                    # data will be not same after modication\n",
    "                                    # data will also be not share\n",
    "   "
   ]
  },
  {
   "cell_type": "code",
   "execution_count": 148,
   "metadata": {},
   "outputs": [
    {
     "name": "stdout",
     "output_type": "stream",
     "text": [
      "[1 2 3 4 5 6 7]\n",
      "[1 2 3 4 5 6 7]\n",
      "a 2970122529488\n",
      "b 2970122440096\n",
      " \n",
      "After Modification:\n",
      "[ 1 20  3  4  5  6  7]\n",
      "[10  2  3  4  5  6  7]\n",
      "a 2970122529488\n",
      "b 2970122440096\n"
     ]
    }
   ],
   "source": [
    "from numpy import*\n",
    "a = array([1,2,3,4,5,6,7])\n",
    "b = copy (a)\n",
    "print (a)\n",
    "print (b)\n",
    "print (\"a\", id(a))\n",
    "print (\"b\", id(b)) \n",
    "\n",
    "print (\" \")\n",
    "\n",
    "print (\"After Modification:\")\n",
    "a[1] = 20\n",
    "b[0] = 10\n",
    "print (a)\n",
    "print (b)\n",
    "print (\"a\", id(a))\n",
    "print (\"b\", id(b)) "
   ]
  },
  {
   "cell_type": "markdown",
   "metadata": {},
   "source": [
    "# Input From User in Numpy 1D Array"
   ]
  },
  {
   "cell_type": "code",
   "execution_count": 1,
   "metadata": {},
   "outputs": [
    {
     "name": "stdout",
     "output_type": "stream",
     "text": [
      "Enter Number of Elements: 15\n",
      "[10 20 30  0  0  0  0  0  0  0  0  0  0  0  0]\n"
     ]
    }
   ],
   "source": [
    "from numpy import*\n",
    "\n",
    "user_input = int(input (\"Enter Number of Elements: \"))\n",
    "a = zeros(user_input, dtype=int)\n",
    "a[0] = 10\n",
    "a[1] = 20\n",
    "a[2] = 30   \n",
    "print (a)     # first three indexed element will be displayed whihc is ginven in a indexs"
   ]
  },
  {
   "cell_type": "markdown",
   "metadata": {},
   "source": [
    "### Using for-loop"
   ]
  },
  {
   "cell_type": "code",
   "execution_count": null,
   "metadata": {},
   "outputs": [],
   "source": [
    "\n",
    "from numpy import*\n",
    "\n",
    "user_input = int(input (\"Enter Number of Elements: \"))\n",
    "a = zeros(user_input, dtype=int)\n",
    "\n",
    "# use for-loo for taking input from user \n",
    "for i in range(len(a)):      # you can also write 'for i in range (user_input)' there will be no different in thses two terms\n",
    "    x = int(input(\"Enter Elements: \"))\n",
    "    a[i] = x\n",
    "\n",
    "print (a)\n",
    "    "
   ]
  },
  {
   "cell_type": "code",
   "execution_count": null,
   "metadata": {},
   "outputs": [],
   "source": [
    "from numpy import*\n",
    "\n",
    "user_input = int(input (\"Enter Number of Elements: \"))\n",
    "a = zeros(user_input, dtype=int)\n",
    "\n",
    "# use for-loo for taking input from user \n",
    "for i in range(len(a)):      # you can also write 'for i in range (user_input)' there will be no different in thses two terms\n",
    "    x = int(input(\"Enter Elements: \"))\n",
    "    a[i] = x\n",
    "\n",
    "for i in range (len(a)):\n",
    "    print (a[1])\n",
    "    "
   ]
  },
  {
   "cell_type": "markdown",
   "metadata": {},
   "source": [
    "### Using while-loop"
   ]
  },
  {
   "cell_type": "code",
   "execution_count": 2,
   "metadata": {},
   "outputs": [
    {
     "name": "stdout",
     "output_type": "stream",
     "text": [
      "Enter Number of Elements: 3\n",
      "Enter Elements: 15\n",
      "Enter Elements: 12\n",
      "Enter Elements: 15\n",
      "[15 12 15]\n"
     ]
    }
   ],
   "source": [
    "from numpy import*\n",
    "\n",
    "user_input = int(input (\"Enter Number of Elements: \"))\n",
    "a = zeros(user_input, dtype=int)                # by-default dtype is flaot\n",
    "\n",
    "u = len(a)\n",
    "\n",
    "i=0\n",
    "while i<u:\n",
    "    x = int(input(\"Enter Elements: \"))\n",
    "    a[i] = x\n",
    "    i+=1\n",
    "    \n",
    "print (a)"
   ]
  },
  {
   "cell_type": "code",
   "execution_count": null,
   "metadata": {},
   "outputs": [],
   "source": [
    "from numpy import*\n",
    "\n",
    "user_input = int(input (\"Enter Number of Elements: \"))\n",
    "a = zeros(user_input, dtype=int)                # by-default dtype is flaot\n",
    "\n",
    "u = len(a)\n",
    "\n",
    "i=0\n",
    "j=0\n",
    "while i<u:\n",
    "    x = int(input(\"Enter Elements: \"))\n",
    "    a[i] = x\n",
    "    i+=1\n",
    "\n"
   ]
  },
  {
   "cell_type": "markdown",
   "metadata": {},
   "source": [
    "# Two Dimentional Array- Multiple Rows, Multiple Colums\n",
    "\n",
    "## If an array contain more than 1 row and 1 column that is knows as 2D Array. It also known as array of arrays. \n",
    "\n"
   ]
  },
  {
   "cell_type": "markdown",
   "metadata": {},
   "source": [
    "### 2D Array"
   ]
  },
  {
   "cell_type": "code",
   "execution_count": 12,
   "metadata": {},
   "outputs": [
    {
     "name": "stdout",
     "output_type": "stream",
     "text": [
      "[[[1 2 3]\n",
      "  [4 5 6]\n",
      "  [7 8 9]\n",
      "  [0 1 2]]]\n"
     ]
    }
   ],
   "source": [
    "from numpy import*\n",
    "a = array ([\n",
    "            [\n",
    "               [1,2,3], [4,5,6],\n",
    "               [7,8,9], [0,1,2]\n",
    "            ]\n",
    "          ])\n",
    "print (a)"
   ]
  },
  {
   "cell_type": "markdown",
   "metadata": {},
   "source": [
    "### 3D Array"
   ]
  },
  {
   "cell_type": "code",
   "execution_count": 10,
   "metadata": {},
   "outputs": [
    {
     "name": "stdout",
     "output_type": "stream",
     "text": [
      "[[ 1  2  3  4  5]\n",
      " [ 6  7  8  9 10]]\n"
     ]
    }
   ],
   "source": [
    "from numpy import*\n",
    "a = array ([ \n",
    "            [1,2,3,4,5],\n",
    "            [6,7,8,9,10]  \n",
    "          ])\n",
    "print (a)"
   ]
  },
  {
   "cell_type": "code",
   "execution_count": 31,
   "metadata": {},
   "outputs": [
    {
     "name": "stdout",
     "output_type": "stream",
     "text": [
      "[[ 1  2  3  4  5]\n",
      " [ 6  7  8  9 10]]\n",
      "\n",
      "[[[1 2 3]\n",
      "  [4 5 6]\n",
      "  [7 8 9]]]\n"
     ]
    }
   ],
   "source": [
    "# we can also write in a single line:\n",
    "from numpy import*\n",
    "two_d = array ([ [1,2,3,4,5], [6,7,8,9,10] ])\n",
    "three_d = array ([ [[1,2,3], [4,5,6], [7,8,9] ] ])\n",
    "\n",
    "print (two_d)\n",
    "print (\"\")\n",
    "print (three_d)"
   ]
  },
  {
   "cell_type": "markdown",
   "metadata": {},
   "source": [
    "### Way of creating Multi-D Array\n",
    "#### We can use some functions that will help to create a multi-dimentional array\n",
    "#### Function Names:\n",
    "#### 1. array () Function\n",
    "#### 2. zeros () Function\n",
    "#### 3. ones () Function\n",
    "#### 4. reshape () Function\n",
    "#### There are also other function which can be use to create a multi-D array but these are more common. "
   ]
  },
  {
   "cell_type": "markdown",
   "metadata": {},
   "source": [
    "### Array Function\n",
    "#### array () function of numpy is used to create a multi dimentional array.\n",
    "\n",
    "#### Syntax:\n",
    "    numpy.array(object, dtype=None, copy=True, order='K', subok=False, ndmin=0)\n",
    "    \n",
    "    array_name = numpy.array ([ [elements],elements] ])"
   ]
  },
  {
   "cell_type": "code",
   "execution_count": 4,
   "metadata": {},
   "outputs": [
    {
     "name": "stdout",
     "output_type": "stream",
     "text": [
      "[[ 1  2  3  4  5]\n",
      " [ 6  7  8  9 10]]\n"
     ]
    }
   ],
   "source": [
    "# How to creat a multi dimentional array using array fucntion\n",
    "import numpy\n",
    "two_d = numpy.array ([ [1,2,3,4,5], [6,7,8,9,10] ])\n",
    "print (two_d)"
   ]
  },
  {
   "cell_type": "code",
   "execution_count": 5,
   "metadata": {},
   "outputs": [
    {
     "name": "stdout",
     "output_type": "stream",
     "text": [
      "[[ 1  2  3  4  5]\n",
      " [ 6  7  8  9 10]]\n"
     ]
    }
   ],
   "source": [
    "# How to creat a multi dimentional array using array fucntion\n",
    "from numpy import*\n",
    "two_d = array ([ [1,2,3,4,5], [6,7,8,9,10] ])\n",
    "print (two_d)"
   ]
  },
  {
   "cell_type": "markdown",
   "metadata": {},
   "source": [
    "### Accessing 2D Array Elements"
   ]
  },
  {
   "cell_type": "code",
   "execution_count": 10,
   "metadata": {},
   "outputs": [
    {
     "name": "stdout",
     "output_type": "stream",
     "text": [
      "1\n",
      "2\n",
      "3\n",
      "4\n",
      "5\n",
      " \n",
      "6\n",
      "7\n",
      "8\n",
      "9\n",
      "10\n"
     ]
    }
   ],
   "source": [
    "from numpy import*\n",
    "a = array ([ [1,2,3,4,5], [6,7,8,9,10] ])\n",
    "print (a[0][0])\n",
    "print (a[0][1])\n",
    "print (a[0][2])\n",
    "print (a[0][3])\n",
    "print (a[0][4])\n",
    "\n",
    "print (\" \")\n",
    "\n",
    "print (a[1][0])\n",
    "print (a[1][1])\n",
    "print (a[1][2])\n",
    "print (a[1][3])\n",
    "print (a[1][4])\n"
   ]
  },
  {
   "cell_type": "markdown",
   "metadata": {},
   "source": [
    "### Modifying 2D Array Elements"
   ]
  },
  {
   "cell_type": "code",
   "execution_count": 13,
   "metadata": {},
   "outputs": [
    {
     "name": "stdout",
     "output_type": "stream",
     "text": [
      "50.0\n",
      "float64\n"
     ]
    }
   ],
   "source": [
    "from numpy import*\n",
    "a = array ([ [1,2,3,4,5], [6,7,8,9,10] ] , dtype=float)\n",
    "a[0][0] = 50\n",
    "print (a[0][0])\n",
    "print (a.dtype)"
   ]
  },
  {
   "cell_type": "markdown",
   "metadata": {},
   "source": [
    "### Sting in an 2D Array"
   ]
  },
  {
   "cell_type": "code",
   "execution_count": 17,
   "metadata": {},
   "outputs": [
    {
     "name": "stdout",
     "output_type": "stream",
     "text": [
      "[['Nasir' 'Yasir' 'Adil']\n",
      " ['Ali' 'Hashim' 'Raza']]\n"
     ]
    }
   ],
   "source": [
    "from numpy import*\n",
    "a = array ([ ['Nasir', 'Yasir', 'Adil'], ['Ali', 'Hashim', 'Raza'] ] )\n",
    "print (a)"
   ]
  },
  {
   "cell_type": "markdown",
   "metadata": {},
   "source": [
    "### We can also assign a name to numpy "
   ]
  },
  {
   "cell_type": "code",
   "execution_count": 18,
   "metadata": {},
   "outputs": [
    {
     "name": "stdout",
     "output_type": "stream",
     "text": [
      "[['Nasir' 'Yasir' 'Adil']\n",
      " ['Ali' 'Hashim' 'Raza']]\n"
     ]
    }
   ],
   "source": [
    "import numpy as np\n",
    "a = np.array ([ ['Nasir', 'Yasir', 'Adil'], ['Ali', 'Hashim', 'Raza'] ] )\n",
    "print (a)"
   ]
  },
  {
   "cell_type": "markdown",
   "metadata": {},
   "source": [
    "### Accessing 2D Arary using for-loop"
   ]
  },
  {
   "cell_type": "code",
   "execution_count": 1,
   "metadata": {},
   "outputs": [
    {
     "name": "stdout",
     "output_type": "stream",
     "text": [
      "1\n",
      "2\n",
      "3\n",
      "4\n",
      "5\n",
      "\n",
      "6\n",
      "7\n",
      "8\n",
      "9\n",
      "10\n",
      "\n"
     ]
    }
   ],
   "source": [
    "from numpy import*\n",
    "# whithout index number\n",
    "a = array ([ [1,2,3,4,5], [6,7,8,9,10] ])\n",
    "# you need to use nested loop in 2D array or more than 1D array\n",
    "# The outer for-loop represents the rows and the inner for-loop represents the columns in each row.\n",
    "\n",
    "for r in a:         # r is row \n",
    "    for c in r:     # c ic column\n",
    "        print(c)\n",
    "    print()"
   ]
  },
  {
   "cell_type": "code",
   "execution_count": 6,
   "metadata": {},
   "outputs": [
    {
     "name": "stdout",
     "output_type": "stream",
     "text": [
      "length of array is 2\n",
      "1\n",
      "2\n",
      "3\n",
      "4\n",
      "5\n",
      "\n",
      "6\n",
      "7\n",
      "8\n",
      "9\n",
      "10\n",
      "\n"
     ]
    }
   ],
   "source": [
    "from numpy import*\n",
    "# whith index number\n",
    "a = array ([ [1,2,3,4,5], [6,7,8,9,10] ])\n",
    "# you need to use nested loop in 2D array or more than 1D array\n",
    "# The outer for-loop represents the rows and the inner for-loop represents the columns in each row.\n",
    "\n",
    "n= len (a) \n",
    "print(\"length of array is\",n)  # number of rows\n",
    "\n",
    "for i in range(n):         # r is row \n",
    "    for j in range(len(a[i])):     # c ic column\n",
    "        print(a[i][j])\n",
    "    print()"
   ]
  },
  {
   "cell_type": "markdown",
   "metadata": {},
   "source": [
    "### Accessing 2D Arary using while-loop"
   ]
  },
  {
   "cell_type": "code",
   "execution_count": 10,
   "metadata": {},
   "outputs": [
    {
     "name": "stdout",
     "output_type": "stream",
     "text": [
      "number of rows lenght is 2\n",
      "1\n",
      "2\n",
      "3\n",
      "4\n",
      "5\n",
      "\n",
      "6\n",
      "7\n",
      "8\n",
      "9\n",
      "10\n",
      "\n"
     ]
    }
   ],
   "source": [
    "  from numpy import*\n",
    "# whithout index number\n",
    "a = array ([ [1,2,3,4,5], [6,7,8,9,10] ])\n",
    "# you need to use nested loop in 2D array or more than 1D array\n",
    "n = len (a)\n",
    "print (\"number of rows lenght is\",n)\n",
    "i = 0\n",
    "while i<n:\n",
    "    j=0\n",
    "    while j<len(a[i]):\n",
    "        print (a[i][j])\n",
    "        j+=1\n",
    "    i+=1\n",
    "    print ()\n"
   ]
  },
  {
   "cell_type": "markdown",
   "metadata": {},
   "source": [
    "### Zeros () Fucntion in 2D\n",
    "zeros () fucntion is use to create arrays with all zeros elements\n",
    "#### Syntax:\n",
    "    numpy.zeros(shape, dtype= int, order= 'C')\n",
    "    where, \n",
    "    shape - shape of new array. It can be an int which will represent the number of elements or can be tuple of int. ex:(3,2) 3-rows , 2-columns\n",
    "    "
   ]
  },
  {
   "cell_type": "code",
   "execution_count": 11,
   "metadata": {},
   "outputs": [
    {
     "name": "stdout",
     "output_type": "stream",
     "text": [
      "[[0. 0.]\n",
      " [0. 0.]\n",
      " [0. 0.]]\n"
     ]
    }
   ],
   "source": [
    "from numpy import*\n",
    "a = zeros ((3,2)) \n",
    "print (a)"
   ]
  },
  {
   "cell_type": "code",
   "execution_count": 12,
   "metadata": {},
   "outputs": [
    {
     "name": "stdout",
     "output_type": "stream",
     "text": [
      "0.0\n"
     ]
    }
   ],
   "source": [
    "#accessing 2D array elemeents\n",
    "from numpy import*\n",
    "a = zeros ((3,2)) \n",
    "print (a[0][0])"
   ]
  },
  {
   "cell_type": "code",
   "execution_count": 18,
   "metadata": {},
   "outputs": [
    {
     "name": "stdout",
     "output_type": "stream",
     "text": [
      "0\n",
      "0\n",
      "\n",
      "0\n",
      "0\n",
      "\n",
      "0\n",
      "0\n",
      "\n",
      "index 0 0 = 0\n",
      "index 0 1 = 0\n",
      "\n",
      "index 1 0 = 0\n",
      "index 1 1 = 0\n",
      "\n",
      "index 2 0 = 0\n",
      "index 2 1 = 0\n",
      "\n"
     ]
    }
   ],
   "source": [
    "# accessing 2D array using for-loop without index number\n",
    "from numpy import*\n",
    "a = zeros ((3,2), dtype=int)\n",
    "\n",
    "for r in a:\n",
    "    for c in r:\n",
    "        print (c)\n",
    "    print ()\n",
    "    \n",
    "# accessing 2D array using for-loop with index number\n",
    "from numpy import*\n",
    "a = zeros ((3,2), dtype=int)\n",
    "n = len (a)\n",
    "\n",
    "for i in range (n):\n",
    "    for j in range(len(a[i])):\n",
    "        print (\"index\", i,j, \"=\", a [i][j])\n",
    "    print ()"
   ]
  },
  {
   "cell_type": "code",
   "execution_count": 20,
   "metadata": {},
   "outputs": [
    {
     "name": "stdout",
     "output_type": "stream",
     "text": [
      "index 0 0 = 0\n",
      "index 0 1 = 0\n",
      "\n",
      "index 1 0 = 0\n",
      "index 1 1 = 0\n",
      "\n",
      "index 2 0 = 0\n",
      "index 2 1 = 0\n",
      "\n"
     ]
    }
   ],
   "source": [
    "# accessing 2D array using while-loop \n",
    "from numpy import*\n",
    "a = zeros ((3,2), dtype=int)\n",
    "n = len (a)\n",
    "i =0\n",
    "while i<n:\n",
    "    j=0\n",
    "    while j<len(a[i]):\n",
    "        print (\"index\", i, j, \"=\", a [i][j])\n",
    "        j+=1\n",
    "    i+=1\n",
    "    print ()"
   ]
  },
  {
   "cell_type": "code",
   "execution_count": 21,
   "metadata": {},
   "outputs": [
    {
     "name": "stdout",
     "output_type": "stream",
     "text": [
      "[[1. 1.]\n",
      " [1. 1.]\n",
      " [1. 1.]]\n"
     ]
    }
   ],
   "source": [
    "from numpy import*\n",
    "a = ones ((3,2)) \n",
    "print (a) \n",
    "# same process as we did in zeros () function"
   ]
  },
  {
   "cell_type": "markdown",
   "metadata": {},
   "source": [
    "### Reshape () Function\n",
    "#### This function is used to change the shape of an array. We can convert 1D array to 2D or 3D array and vice versa. But the the new array should have the same number of elements as in the orginal array. \n",
    "\n",
    "#### Syntax:\n",
    "    reshape (array_name, (n,r,c))\n",
    "    where,\n",
    "    array_name - it represent the name of array whose elements to be converted\n",
    "    n - n is the number of array\n",
    "    r - r is the number of rows\n",
    "    c - c is the number of cloumns\n",
    "    "
   ]
  },
  {
   "cell_type": "markdown",
   "metadata": {},
   "source": [
    "### Convert 1D Array to 2D & 3D Array"
   ]
  },
  {
   "cell_type": "code",
   "execution_count": 22,
   "metadata": {},
   "outputs": [
    {
     "name": "stdout",
     "output_type": "stream",
     "text": [
      "[1 2 3 4 5 6]\n",
      "[[1 2 3]\n",
      " [4 5 6]]\n"
     ]
    }
   ],
   "source": [
    "#convert 1D array into 2D\n",
    "from numpy import*\n",
    "a = array ([1,2,3,4,5,6])\n",
    "b = reshape (a, (2,3))\n",
    "print (a)\n",
    "print (b)"
   ]
  },
  {
   "cell_type": "code",
   "execution_count": 23,
   "metadata": {},
   "outputs": [
    {
     "name": "stdout",
     "output_type": "stream",
     "text": [
      "[ 1  2  3  4  5  6  7  8  9 10 11 12]\n",
      "[[[ 1  2]\n",
      "  [ 3  4]\n",
      "  [ 5  6]]\n",
      "\n",
      " [[ 7  8]\n",
      "  [ 9 10]\n",
      "  [11 12]]]\n"
     ]
    }
   ],
   "source": [
    "#convert 1D array into 3D\n",
    "from numpy import*\n",
    "a = array ([1,2,3,4,5,6,7,8,9,10,11,12])\n",
    "b = reshape (a, (2,3,2))\n",
    "print (a)\n",
    "print (b)"
   ]
  },
  {
   "cell_type": "code",
   "execution_count": 26,
   "metadata": {},
   "outputs": [
    {
     "name": "stdout",
     "output_type": "stream",
     "text": [
      "[[1 2 3]\n",
      " [4 5 6]]\n",
      "[1 2 3 4 5 6]\n"
     ]
    }
   ],
   "source": [
    "#convert 2D array into 1D\n",
    "from numpy import*\n",
    "e = array ([ [1,2,3], [4,5,6] ])\n",
    "f = reshape (e, (6))\n",
    "print (e)\n",
    "print (f)"
   ]
  },
  {
   "cell_type": "markdown",
   "metadata": {},
   "source": [
    "#### Flatten Method"
   ]
  },
  {
   "cell_type": "code",
   "execution_count": 28,
   "metadata": {},
   "outputs": [
    {
     "name": "stdout",
     "output_type": "stream",
     "text": [
      "[1 2 3 4 5 6]\n"
     ]
    }
   ],
   "source": [
    "# we can also convert 2D or 3D array into 1D array using Flatten Method\n",
    "from numpy import*\n",
    "e = array ([ [1,2,3], [4,5,6] ])\n",
    "f =  e.flatten()\n",
    "print (f)"
   ]
  },
  {
   "cell_type": "markdown",
   "metadata": {},
   "source": [
    "### How to take input from user in 2D array using for-loop"
   ]
  },
  {
   "cell_type": "code",
   "execution_count": 33,
   "metadata": {},
   "outputs": [
    {
     "name": "stdout",
     "output_type": "stream",
     "text": [
      "Enter Number of Rows: 10\n",
      "Enter Number of Columns: 20\n",
      "[[0 0 0 0 0 0 0 0 0 0 0 0 0 0 0 0 0 0 0 0]\n",
      " [0 0 0 0 0 0 0 0 0 0 0 0 0 0 0 0 0 0 0 0]\n",
      " [0 0 0 0 0 0 0 0 0 0 0 0 0 0 0 0 0 0 0 0]\n",
      " [0 0 0 0 0 0 0 0 0 0 0 0 0 0 0 0 0 0 0 0]\n",
      " [0 0 0 0 0 0 0 0 0 0 0 0 0 0 0 0 0 0 0 0]\n",
      " [0 0 0 0 0 0 0 0 0 0 0 0 0 0 0 0 0 0 0 0]\n",
      " [0 0 0 0 0 0 0 0 0 0 0 0 0 0 0 0 0 0 0 0]\n",
      " [0 0 0 0 0 0 0 0 0 0 0 0 0 0 0 0 0 0 0 0]\n",
      " [0 0 0 0 0 0 0 0 0 0 0 0 0 0 0 0 0 0 0 0]\n",
      " [0 0 0 0 0 0 0 0 0 0 0 0 0 0 0 0 0 0 0 0]]\n"
     ]
    }
   ],
   "source": [
    "from numpy import*\n",
    "m = int(input(\"Enter Number of Rows: \"))\n",
    "n = int(input(\"Enter Number of Columns: \"))\n",
    "a = zeros ((m,n), dtype=int)\n",
    "print (a)"
   ]
  },
  {
   "cell_type": "code",
   "execution_count": 35,
   "metadata": {},
   "outputs": [
    {
     "name": "stdout",
     "output_type": "stream",
     "text": [
      "Enter Number of Rows: 5\n",
      "Enter Number of Columns: 2\n",
      "[[0 0]\n",
      " [0 0]\n",
      " [0 0]\n",
      " [0 0]\n",
      " [0 0]]\n",
      "5\n"
     ]
    }
   ],
   "source": [
    "from numpy import*\n",
    "m = int(input(\"Enter Number of Rows: \"))\n",
    "n = int(input(\"Enter Number of Columns: \"))\n",
    "a = zeros ((m,n), dtype=int)\n",
    "\n",
    "u = len (a)\n",
    "\n",
    "print (a)\n",
    "print (u)   # it gives number of row so we can also set m instad of a"
   ]
  },
  {
   "cell_type": "code",
   "execution_count": 38,
   "metadata": {},
   "outputs": [
    {
     "name": "stdout",
     "output_type": "stream",
     "text": [
      "Enter Number of Rows: 2\n",
      "Enter Number of Columns: 2\n",
      "[[0 0]\n",
      " [0 0]]\n",
      "Enter Elements:15\n",
      "Enter Elements:12\n",
      "Enter Elements:15\n",
      "Enter Elements:13\n",
      "15\n",
      "12\n",
      "15\n",
      "13\n",
      "[[15 12]\n",
      " [15 13]]\n"
     ]
    }
   ],
   "source": [
    "from numpy import*\n",
    "m = int(input(\"Enter Number of Rows: \"))\n",
    "n = int(input(\"Enter Number of Columns: \"))\n",
    "a = zeros ((m,n), dtype=int)\n",
    "\n",
    "u = len (a)\n",
    "print (a)\n",
    "\n",
    "for i in range(u):\n",
    "    for j in range(len(a[i])):\n",
    "        x = int(input(\"Enter Elements:\"))\n",
    "        a[i][j]= x\n",
    "\n",
    "# output with index\n",
    "for i in range (u):\n",
    "    for j in range (len(a[i])):\n",
    "        print (a[i][j])\n",
    "print (a)"
   ]
  },
  {
   "cell_type": "code",
   "execution_count": 39,
   "metadata": {},
   "outputs": [
    {
     "name": "stdout",
     "output_type": "stream",
     "text": [
      "Enter Number of Rows: 2\n",
      "Enter Number of Columns: 2\n",
      "[[0 0]\n",
      " [0 0]]\n",
      "Enter Elements:15\n",
      "Enter Elements:21\n",
      "Enter Elements:15\n",
      "Enter Elements:13\n",
      "15\n",
      "21\n",
      "15\n",
      "13\n",
      "[[15 21]\n",
      " [15 13]]\n"
     ]
    }
   ],
   "source": [
    "from numpy import*\n",
    "m = int(input(\"Enter Number of Rows: \"))\n",
    "n = int(input(\"Enter Number of Columns: \"))\n",
    "a = zeros ((m,n), dtype=int)\n",
    "\n",
    "u = len (a)\n",
    "print (a)\n",
    "\n",
    "for i in range(u):\n",
    "    for j in range(len(a[i])):\n",
    "        x = int(input(\"Enter Elements:\"))\n",
    "        a[i][j]= x\n",
    "\n",
    "# output without index\n",
    "for r in a:\n",
    "    for c in r:\n",
    "        print (c)\n",
    "print (a)"
   ]
  },
  {
   "cell_type": "markdown",
   "metadata": {},
   "source": [
    "### How to take input from user in 2D array using while-loop"
   ]
  },
  {
   "cell_type": "code",
   "execution_count": 1,
   "metadata": {},
   "outputs": [
    {
     "name": "stdout",
     "output_type": "stream",
     "text": [
      "Enter Number of Rows: 2\n",
      "Enter Number of Columns: 2\n",
      "Enter Element: 15\n",
      "Enter Element: 12\n",
      "Enter Element: 15\n",
      "Enter Element: 13\n",
      "index 0 0 = 15\n",
      "index 0 1 = 12\n",
      "index 1 0 = 15\n",
      "index 1 1 = 13\n",
      "[[15 12]\n",
      " [15 13]]\n"
     ]
    }
   ],
   "source": [
    "from numpy import*\n",
    "m = int(input(\"Enter Number of Rows: \"))\n",
    "n = int(input(\"Enter Number of Columns: \"))\n",
    "a = zeros ((m,n), dtype=int)\n",
    "\n",
    "\n",
    "u = len (a)\n",
    "i = 0\n",
    "while i<u:\n",
    "    j=0\n",
    "    while j < len (a[i]):\n",
    "        x = int(input(\"Enter Element: \"))\n",
    "        a[i][j] = x\n",
    "        j+=1\n",
    "    i+=1\n",
    "\n",
    "i = 0    \n",
    "while i<u:\n",
    "    j = 0\n",
    "    while j < len(a[i]):\n",
    "        print (\"index\", i, j, \"=\", a[i][j])\n",
    "        j+=1\n",
    "    i+=1\n",
    "print (a)  "
   ]
  },
  {
   "cell_type": "markdown",
   "metadata": {},
   "source": [
    "### Slicing on 2D Array\n",
    "#### slicing on array can be used to retrieve a piece of the array that contains a group of elemets. It is useful to retreive a range of elements. \n",
    "#### Syntax:-\n",
    "    new_array_name = array_name [start:stop:stepsize:start:stop:stepsize]\n",
    "    The default start value is 0. The defaul stepsize is 1."
   ]
  },
  {
   "cell_type": "code",
   "execution_count": 6,
   "metadata": {},
   "outputs": [
    {
     "name": "stdout",
     "output_type": "stream",
     "text": [
      "Orignal Array\n",
      "[[10 20 30]\n",
      " [40 50 60]\n",
      " [70 80 90]]\n",
      " \n",
      "[10 20 30]\n",
      "[40 50 60]\n",
      "[70 80 90]\n"
     ]
    }
   ],
   "source": [
    "from numpy import*\n",
    "n = array ([[10, 20, 30],\n",
    "            [40, 50, 60],\n",
    "            [70, 80, 90]])\n",
    "print (\"Orignal Array\")\n",
    "print (n)\n",
    "\n",
    "print (\" \")\n",
    "\n",
    "print (n[0])\n",
    "print (n[1])\n",
    "print (n[2])"
   ]
  },
  {
   "cell_type": "code",
   "execution_count": 10,
   "metadata": {},
   "outputs": [
    {
     "name": "stdout",
     "output_type": "stream",
     "text": [
      "Orignal Array\n",
      "[[10 20 30]\n",
      " [40 50 60]\n",
      " [70 80 90]]\n",
      " \n",
      "0th Row All Columns\n",
      "[10 20 30]\n",
      "1th Row All Columns\n",
      "[40 50 60]\n",
      "2th Row All Columns\n",
      "[70 80 90]\n"
     ]
    }
   ],
   "source": [
    "from numpy import*\n",
    "n = array ([[10, 20, 30],\n",
    "            [40, 50, 60],\n",
    "            [70, 80, 90]])\n",
    "print (\"Orignal Array\")\n",
    "print (n)\n",
    "\n",
    "print (\" \")\n",
    "\n",
    "print (\"0th Row All Columns\")\n",
    "a = n[0, :]\n",
    "print (a)\n",
    "\n",
    "print (\"1th Row All Columns\")\n",
    "a = n[1, :]\n",
    "print (a)\n",
    "\n",
    "print (\"2th Row All Columns\")\n",
    "a = n[2, :]\n",
    "print (a)"
   ]
  },
  {
   "cell_type": "code",
   "execution_count": 11,
   "metadata": {},
   "outputs": [
    {
     "name": "stdout",
     "output_type": "stream",
     "text": [
      "Orignal Array\n",
      "[[10 20 30]\n",
      " [40 50 60]\n",
      " [70 80 90]]\n",
      " \n",
      "0th Column All Rows\n",
      "[10 40 70]\n"
     ]
    }
   ],
   "source": [
    "from numpy import*\n",
    "n = array ([[10, 20, 30],\n",
    "            [40, 50, 60],\n",
    "            [70, 80, 90]])\n",
    "print (\"Orignal Array\")\n",
    "print (n)\n",
    "\n",
    "print (\" \")\n",
    "print (\"0th Column All Rows\")\n",
    "a = n[:, 0]\n",
    "print (a)\n"
   ]
  },
  {
   "cell_type": "code",
   "execution_count": 13,
   "metadata": {},
   "outputs": [
    {
     "name": "stdout",
     "output_type": "stream",
     "text": [
      "Orignal Array\n",
      "[[10 20 30]\n",
      " [40 50 60]\n",
      " [70 80 90]]\n",
      " \n",
      "0th Column All Rows\n",
      "10\n",
      "40\n",
      "70\n",
      "1th Column All Rows\n",
      "20\n",
      "50\n",
      "80\n",
      "2th Column All Rows\n",
      "30\n",
      "60\n",
      "90\n"
     ]
    }
   ],
   "source": [
    "#using for-loop\n",
    "from numpy import*\n",
    "n = array ([[10, 20, 30],\n",
    "            [40, 50, 60],\n",
    "            [70, 80, 90]])\n",
    "print (\"Orignal Array\")\n",
    "print (n)\n",
    "\n",
    "print (\" \")\n",
    "print (\"0th Column All Rows\")\n",
    "a = n[:, 0]\n",
    "for i in a:\n",
    "    print (i)\n",
    "\n",
    "print (\"1th Column All Rows\")\n",
    "a = n[:, 1]\n",
    "for i in a:\n",
    "    print (i)\n",
    "    \n",
    "print (\"2th Column All Rows\")\n",
    "a = n[:, 2]\n",
    "for i in a:\n",
    "    print (i)"
   ]
  },
  {
   "cell_type": "code",
   "execution_count": 3,
   "metadata": {},
   "outputs": [
    {
     "name": "stdout",
     "output_type": "stream",
     "text": [
      "Orignal Array\n",
      "[[10 20 30]\n",
      " [40 50 60]\n",
      " [70 80 90]]\n",
      " \n",
      "How to access specific element from an array.\n",
      "[30 60 90]\n"
     ]
    }
   ],
   "source": [
    "#using for-loop\n",
    "from numpy import*\n",
    "n = array ([[10, 20, 30],\n",
    "            [40, 50, 60],\n",
    "            [70, 80, 90]])\n",
    "print (\"Orignal Array\")\n",
    "print (n)\n",
    "\n",
    "print (\" \")\n",
    "print (\"How to access specific element from an array.\")\n",
    "a = n[:, 2]\n",
    "print (a)\n"
   ]
  },
  {
   "cell_type": "code",
   "execution_count": 6,
   "metadata": {},
   "outputs": [
    {
     "name": "stdout",
     "output_type": "stream",
     "text": [
      "Orignal Array\n",
      "[[10 20 30]\n",
      " [40 50 60]\n",
      " [70 80 90]]\n",
      " \n",
      "How to access specific element from an array.\n",
      "[[90]]\n"
     ]
    }
   ],
   "source": [
    "#using for-loop\n",
    "from numpy import*\n",
    "n = array ([[10, 20, 30],\n",
    "            [40, 50, 60],\n",
    "            [70, 80, 90]])\n",
    "print (\"Orignal Array\")\n",
    "print (n)\n",
    "\n",
    "print (\" \")\n",
    "print (\"How to access specific element from an array.\")\n",
    "a = n[2:3, 2:3]\n",
    "print (a)\n"
   ]
  },
  {
   "cell_type": "code",
   "execution_count": 7,
   "metadata": {},
   "outputs": [
    {
     "name": "stdout",
     "output_type": "stream",
     "text": [
      "Orignal Array\n",
      "[[10 20 30]\n",
      " [40 50 60]\n",
      " [70 80 90]]\n",
      " \n",
      "How to access specific element from an array.\n",
      "[[20 30]\n",
      " [50 60]]\n"
     ]
    }
   ],
   "source": [
    "#using for-loop\n",
    "from numpy import*\n",
    "n = array ([[10, 20, 30],\n",
    "            [40, 50, 60],\n",
    "            [70, 80, 90]])\n",
    "print (\"Orignal Array\")\n",
    "print (n)\n",
    "\n",
    "print (\" \")\n",
    "print (\"How to access specific element from an array.\")\n",
    "a = n[0:2, 1:]\n",
    "print (a)\n"
   ]
  },
  {
   "cell_type": "markdown",
   "metadata": {},
   "source": [
    "### Attributes of Numpy Array\n",
    "#### ndim - This attribute represents the number of dimentions or axes of the array. The number of dimensions is also reffered as Rank. \n",
    "#### Syntax:\n",
    "            array_name.ndim\n",
    "\n",
    "### shape - This attribute represents the shape of an array. The shape is a tuple listing the number of elements along each dimension.\n",
    "#### Syntax:\n",
    "            array_name.shape\n",
    "            \n",
    "### size - This attribute represents the total number of elements in the array. \n",
    "#### Syntax:\n",
    "            array_name.size\n",
    "\n",
    "### itemsize - This attribute represents the memory size of the array element in bytes.\n",
    "#### Syntax:\n",
    "            array_name.itemsize\n",
    "            \n",
    "### D-Type: This attribute represents the datatype of elements in the array. \n",
    "#### Syntax:\n",
    "            array_name.dtype\n",
    "\n",
    "### nbytes: This attribute represents the total number of bytes occupied by an array.\n",
    "            Total number of bytes = size of array * itemsize of each element in the array. \n",
    "#### Syntax:\n",
    "            array_name.nbytes\n"
   ]
  },
  {
   "cell_type": "code",
   "execution_count": 10,
   "metadata": {},
   "outputs": [
    {
     "name": "stdout",
     "output_type": "stream",
     "text": [
      "\n",
      " \n",
      "1D Array ndim: 1\n",
      "2D Array ndim: 2\n",
      " \n",
      "1D Array shape: (5,)\n",
      "2D Array shape: (2, 4)\n",
      " \n",
      "1D Array size: 5\n",
      "2D Array size: 8\n",
      " \n",
      "1D Array itemsize: 4\n",
      "2D Array itemsize: 4\n",
      " \n",
      "1D Array dtype: int32\n",
      "2D Array dtype: int32\n",
      " \n",
      "1D Array nbytes: 20\n",
      "2D Array nbytes: 32\n"
     ]
    }
   ],
   "source": [
    "from numpy import *\n",
    "a = array([1,2,3,4,5])\n",
    "b = array([[10,20,30,40], [50,60,70,80]])\n",
    "print ()\n",
    "\n",
    "print (\" \")\n",
    "\n",
    "# ndim Attribute\n",
    "print (\"1D Array ndim:\",a.ndim)\n",
    "print (\"2D Array ndim:\",b.ndim)\n",
    "\n",
    "print (\" \")\n",
    "\n",
    "#shape Attribute\n",
    "#For 1D array shape elements in the row\n",
    "#For 2D array shape specifies number of row and column in each row\n",
    "print (\"1D Array shape:\",a.shape)\n",
    "print (\"2D Array shape:\",b.shape)\n",
    "\n",
    "print (\" \")\n",
    "\n",
    "#size Attribute\n",
    "print (\"1D Array size:\",a.size)\n",
    "print (\"2D Array size:\",b.size)\n",
    "\n",
    "print (\" \")\n",
    "\n",
    "#itmesize Attribute\n",
    "print (\"1D Array itemsize:\",a.itemsize)\n",
    "print (\"2D Array itemsize:\",b.itemsize)\n",
    "\n",
    "print (\" \")\n",
    "\n",
    "#dtype Attribute\n",
    "print (\"1D Array dtype:\",a.dtype)\n",
    "print (\"2D Array dtype:\",b.dtype)\n",
    "\n",
    "print (\" \")\n",
    "\n",
    "#nbytes Attribute\n",
    "print (\"1D Array nbytes:\",a.nbytes)\n",
    "print (\"2D Array nbytes:\",b.nbytes)"
   ]
  },
  {
   "cell_type": "code",
   "execution_count": null,
   "metadata": {},
   "outputs": [],
   "source": []
  }
 ],
 "metadata": {
  "kernelspec": {
   "display_name": "Python 3",
   "language": "python",
   "name": "python3"
  },
  "language_info": {
   "codemirror_mode": {
    "name": "ipython",
    "version": 3
   },
   "file_extension": ".py",
   "mimetype": "text/x-python",
   "name": "python",
   "nbconvert_exporter": "python",
   "pygments_lexer": "ipython3",
   "version": "3.8.5"
  }
 },
 "nbformat": 4,
 "nbformat_minor": 4
}
